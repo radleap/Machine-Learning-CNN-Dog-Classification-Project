{
 "cells": [
  {
   "cell_type": "markdown",
   "metadata": {},
   "source": [
    "# Adhoc Analyis - Class Imbalance - post project review"
   ]
  },
  {
   "cell_type": "markdown",
   "metadata": {},
   "source": [
    "Why use accuracy? As accuracy is your actual metric. Please provide some justification for why accuracy has been chosen based on the characteristics of the problem. Why not use something like F1 Score? What is the distribution of the target class? Is the accuracy paradox an issue? etc...\n",
    "\n",
    "Tying your metric choice into your particular problem and problem domain is actually the single most important thing to do in any machine learning project. If you optimize a model based on the incorrect metric, your model might not be suitable for the business goals."
   ]
  },
  {
   "cell_type": "code",
   "execution_count": 23,
   "metadata": {},
   "outputs": [],
   "source": [
    "import shutil #for moving files\n",
    "import os #for listing/accessing files\n",
    "import pandas as pd"
   ]
  },
  {
   "cell_type": "code",
   "execution_count": 8,
   "metadata": {},
   "outputs": [
    {
     "data": {
      "text/plain": [
       "'001.Affenpinscher'"
      ]
     },
     "execution_count": 8,
     "metadata": {},
     "output_type": "execute_result"
    }
   ],
   "source": [
    "# example\n",
    "dirs = os.listdir(\"dogImages/test/\")\n",
    "dirs[0]"
   ]
  },
  {
   "cell_type": "code",
   "execution_count": 12,
   "metadata": {},
   "outputs": [
    {
     "data": {
      "text/plain": [
       "133"
      ]
     },
     "execution_count": 12,
     "metadata": {},
     "output_type": "execute_result"
    }
   ],
   "source": [
    "len(dirs)"
   ]
  },
  {
   "cell_type": "code",
   "execution_count": 11,
   "metadata": {},
   "outputs": [
    {
     "data": {
      "text/plain": [
       "['Affenpinscher_00003.jpg',\n",
       " 'Affenpinscher_00023.jpg',\n",
       " 'Affenpinscher_00036.jpg',\n",
       " 'Affenpinscher_00047.jpg',\n",
       " 'Affenpinscher_00048.jpg',\n",
       " 'Affenpinscher_00058.jpg',\n",
       " 'Affenpinscher_00071.jpg',\n",
       " 'Affenpinscher_00078.jpg']"
      ]
     },
     "execution_count": 11,
     "metadata": {},
     "output_type": "execute_result"
    }
   ],
   "source": [
    "os.listdir(os.path.join(\"dogImages/test/\",dirs[0]))"
   ]
  },
  {
   "cell_type": "code",
   "execution_count": 15,
   "metadata": {},
   "outputs": [],
   "source": [
    "dist_dict = {}\n",
    "for i in range(len(dirs)):\n",
    "    count = len(os.listdir(os.path.join(\"dogImages/test/\",dirs[i])))\n",
    "    dist_dict[i] = count"
   ]
  },
  {
   "cell_type": "code",
   "execution_count": 17,
   "metadata": {},
   "outputs": [],
   "source": [
    "for i in range(len(dirs)):\n",
    "    count = len(os.listdir(os.path.join(\"dogImages/train/\",dirs[i])))\n",
    "    dist_dict[i] += count"
   ]
  },
  {
   "cell_type": "code",
   "execution_count": 19,
   "metadata": {},
   "outputs": [],
   "source": [
    "for i in range(len(dirs)):\n",
    "    count = len(os.listdir(os.path.join(\"dogImages/valid/\",dirs[i])))\n",
    "    dist_dict[i] += count"
   ]
  },
  {
   "cell_type": "code",
   "execution_count": 26,
   "metadata": {},
   "outputs": [],
   "source": [
    "df_dist = series = pd.Series(dist_dict) "
   ]
  },
  {
   "cell_type": "code",
   "execution_count": 28,
   "metadata": {},
   "outputs": [
    {
     "data": {
      "text/plain": [
       "count    133.000000\n",
       "mean      62.789474\n",
       "std       14.852330\n",
       "min       33.000000\n",
       "25%       53.000000\n",
       "50%       62.000000\n",
       "75%       76.000000\n",
       "max       96.000000\n",
       "dtype: float64"
      ]
     },
     "execution_count": 28,
     "metadata": {},
     "output_type": "execute_result"
    }
   ],
   "source": [
    "df_dist.describe()"
   ]
  },
  {
   "cell_type": "code",
   "execution_count": 36,
   "metadata": {},
   "outputs": [
    {
     "data": {
      "text/plain": [
       "Text(0.5, 0, 'Count of class occurance')"
      ]
     },
     "execution_count": 36,
     "metadata": {},
     "output_type": "execute_result"
    },
    {
     "data": {
      "image/png": "[encoded data removed]",
      "text/plain": [
       "<Figure size 432x288 with 1 Axes>"
      ]
     },
     "metadata": {
      "needs_background": "light"
     },
     "output_type": "display_data"
    }
   ],
   "source": [
    "import matplotlib.pyplot as plt\n",
    "df_dist.hist()\n",
    "plt.title('133 Class Distribution')\n",
    "plt.ylabel('Frequency')\n",
    "plt.xlabel('Count of class occurance')"
   ]
  },
  {
   "cell_type": "code",
   "execution_count": null,
   "metadata": {},
   "outputs": [],
   "source": []
  }
 ],
 "metadata": {
  "kernelspec": {
   "display_name": "Python 3",
   "language": "python",
   "name": "python3"
  },
  "language_info": {
   "codemirror_mode": {
    "name": "ipython",
    "version": 3
   },
   "file_extension": ".py",
   "mimetype": "text/x-python",
   "name": "python",
   "nbconvert_exporter": "python",
   "pygments_lexer": "ipython3",
   "version": "3.7.3"
  }
 },
 "nbformat": 4,
 "nbformat_minor": 2
}
