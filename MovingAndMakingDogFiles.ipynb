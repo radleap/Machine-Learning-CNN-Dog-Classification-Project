{
 "cells": [
  {
   "cell_type": "markdown",
   "metadata": {},
   "source": [
    "# Accessing First Class Image, OS and SHUTIL"
   ]
  },
  {
   "cell_type": "code",
   "execution_count": null,
   "metadata": {},
   "outputs": [],
   "source": [
    "import shutil #for moving files\n",
    "import os #for listing/accessing files"
   ]
  },
  {
   "cell_type": "code",
   "execution_count": null,
   "metadata": {},
   "outputs": [],
   "source": [
    "os.listdir()"
   ]
  },
  {
   "cell_type": "code",
   "execution_count": null,
   "metadata": {},
   "outputs": [],
   "source": [
    "# example\n",
    "dirs = os.listdir(\"test/001.Affenpinscher\")\n",
    "dirs[0]"
   ]
  },
  {
   "cell_type": "code",
   "execution_count": null,
   "metadata": {},
   "outputs": [],
   "source": [
    "# development code for string cleaning\n",
    "# s = '0American_staffordshire_terrier_00538.jpg'\n",
    "# new_name = ''.join([i for i in s if not i.isdigit()]).replace(\".\", \"\") \n",
    "# new_name = new_name[:-4] #removing jpg\n",
    "# new_path = 'unique/'+new_name +'.jpg'\n",
    "# new_path"
   ]
  },
  {
   "cell_type": "markdown",
   "metadata": {},
   "source": [
    "### Run the cell below to copy old_path to new_path. This change names for use in the app later, so uses string cleaning. This notebook needs to be in the same directory as the 'test' directory containing and the individual dog class directorys of the images. It only selects the first file and moves it.\n",
    "\n",
    "### Everything else has been moved to another directory to not affect the overall model code."
   ]
  },
  {
   "cell_type": "code",
   "execution_count": null,
   "metadata": {},
   "outputs": [],
   "source": [
    "for file in os.listdir(\"test\"):\n",
    "    s = 'test\\\\' + file #file path to unique dog directory\n",
    "    first_dog_photo = os.listdir(s)[0] #this is first unique dog photo in each\n",
    "    old_filepath = s+'\\\\'+first_dog_photo #old filepath to image for utils\n",
    "    print(old_filepath)\n",
    "    \n",
    "    new_name = ''.join([i for i in first_dog_photo if not i.isdigit()]).replace(\".\", \"\") \n",
    "    new_name = new_name[:-4] #removing jpg\n",
    "    new_path = 'unique\\\\'+new_name +'.jpg' #new filepath to image for utils, in format to use in App later\n",
    "    print(new_path)\n",
    " \n",
    "\n",
    "    newPath = shutil.copy(old_filepath, new_path)"
   ]
  }
 ],
 "metadata": {
  "kernelspec": {
   "display_name": "Python 3",
   "language": "python",
   "name": "python3"
  },
  "language_info": {
   "codemirror_mode": {
    "name": "ipython",
    "version": 3
   },
   "file_extension": ".py",
   "mimetype": "text/x-python",
   "name": "python",
   "nbconvert_exporter": "python",
   "pygments_lexer": "ipython3",
   "version": "3.7.3"
  }
 },
 "nbformat": 4,
 "nbformat_minor": 2
}
